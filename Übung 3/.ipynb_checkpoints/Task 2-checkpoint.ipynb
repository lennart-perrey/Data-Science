{
 "cells": [
  {
   "cell_type": "markdown",
   "metadata": {},
   "source": [
    "# Matrix Factorization\n",
    "\n",
    "In this task you are supposed to (manually) implement the matrix factorization variant you learned in the Data Cleaning chapter using the `numpy` library."
   ]
  },
  {
   "cell_type": "code",
   "execution_count": 1,
   "metadata": {},
   "outputs": [],
   "source": [
    "import numpy as np"
   ]
  },
  {
   "cell_type": "markdown",
   "metadata": {},
   "source": [
    "We continue the scenario from the tutorials.\n",
    "\n",
    "Assume that you have a ginormous database $D$ of three users and three movies and ratings provided by some users to some movies, which we represent as a matrix, where the entry $D_{ij}$ represents the rating user $i$ gave to movie $j$.\n",
    "Since not all users have rated movies, and the rating ranges from 1 to 5, we encode missing ratings as 0."
   ]
  },
  {
   "cell_type": "code",
   "execution_count": 6,
   "metadata": {},
   "outputs": [
    {
     "name": "stdout",
     "output_type": "stream",
     "text": [
      "3\n"
     ]
    }
   ],
   "source": [
    "# missing values encoded as 0\n",
    "D = [\n",
    "     [3,1,0],\n",
    "     [1,0,3],\n",
    "     [0,3,5],\n",
    "    ]\n",
    "D = np.array(D)\n",
    "\n",
    "N = len(D)\n",
    "M = len(D[0])\n",
    "print(M)"
   ]
  },
  {
   "cell_type": "markdown",
   "metadata": {},
   "source": [
    "First, randomly initialize the two factors $E$ and $A$ for $f=2$ latent features. For evaluating the correctness of your results from the tutorial, you may *additionally* provide hard-coded inital factors as they have been provided in the tutorial."
   ]
  },
  {
   "cell_type": "code",
   "execution_count": 13,
   "metadata": {
    "scrolled": true
   },
   "outputs": [],
   "source": [
    "# number of latent features\n",
    "f = 2\n",
    "\n",
    "# TODO your code goes here\n",
    "np.random.seed() \n",
    "E = np.random.rand(N, f)\n",
    "A = np.random.rand(M, f)\n"
   ]
  },
  {
   "cell_type": "markdown",
   "metadata": {},
   "source": [
    "Implement a function that takes the data matrix $D$, the inital factors $E, A$, the number of epochs (iterations), the learning rate $\\eta$, and performs the factorization of $D$. Use a default number of 5000 for the epochs and 0.001 for $\\eta$.\n",
    "\n",
    "Updates to $E$ and $A$ are applied immediately. $\\tilde{D}$ is updated after an entry from D was completely dealt with. Update ordered by latent features and E before A."
   ]
  },
  {
   "cell_type": "code",
   "execution_count": 14,
   "metadata": {},
   "outputs": [],
   "source": [
    "# TODO your code goes here\n",
    "def matrix_factorization(D, E, A, epochs=5000, learning_rate=0.001):\n",
    "    for epoch in range(epochs):\n",
    "        for i in range(N):\n",
    "            for j in range(M):\n",
    "                if D[i][j] > 0:\n",
    "                    error_ij = D[i][j] - np.dot(E[i, :], A[j, :])\n",
    "                    for k in range(f):\n",
    "                        E[i][k] += learning_rate * (2 * error_ij * A[j][k])\n",
    "                        A[j][k] += learning_rate * (2 * error_ij * E[i][k])\n",
    "    \n",
    "    return E, A"
   ]
  },
  {
   "cell_type": "markdown",
   "metadata": {},
   "source": [
    "Now test your matrix factorization for the parameters sepcified above."
   ]
  },
  {
   "cell_type": "code",
   "execution_count": 15,
   "metadata": {},
   "outputs": [
    {
     "name": "stdout",
     "output_type": "stream",
     "text": [
      "Original Matrix D:\n",
      "[[3 1 0]\n",
      " [1 0 3]\n",
      " [0 3 5]]\n",
      "\n",
      "Factorized Matrix E:\n",
      "[[2.06426282 0.51723042]\n",
      " [0.4818558  1.11303798]\n",
      " [0.84938907 1.80788062]]\n",
      "\n",
      "Factorized Matrix A:\n",
      "[[1.37759699 0.30210685]\n",
      " [0.07781237 1.62283804]\n",
      " [1.90686582 1.86978015]]\n",
      "\n",
      "Reconstructed Matrix D_hat:\n",
      "[[2.99998109 1.00000637 4.90337938]\n",
      " [1.00005949 1.84377472 2.99997066]\n",
      " [1.71628894 2.99999043 5.00001028]]\n"
     ]
    }
   ],
   "source": [
    "# TODO your code goes here\n",
    "E, A = matrix_factorization(D, E, A)\n",
    "print(\"Original Matrix D:\")\n",
    "print(D)\n",
    "print(\"\\nFactorized Matrix E:\")\n",
    "print(E)\n",
    "print(\"\\nFactorized Matrix A:\")\n",
    "print(A)\n",
    "print(\"\\nReconstructed Matrix D_hat:\")\n",
    "D_hat = np.dot(E, A.T)\n",
    "print(D_hat) "
   ]
  },
  {
   "cell_type": "code",
   "execution_count": null,
   "metadata": {},
   "outputs": [],
   "source": []
  }
 ],
 "metadata": {
  "kernelspec": {
   "display_name": "Python 3 (ipykernel)",
   "language": "python",
   "name": "python3"
  },
  "language_info": {
   "codemirror_mode": {
    "name": "ipython",
    "version": 3
   },
   "file_extension": ".py",
   "mimetype": "text/x-python",
   "name": "python",
   "nbconvert_exporter": "python",
   "pygments_lexer": "ipython3",
   "version": "3.11.5"
  },
  "vscode": {
   "interpreter": {
    "hash": "ad2bdc8ecc057115af97d19610ffacc2b4e99fae6737bb82f5d7fb13d2f2c186"
   }
  }
 },
 "nbformat": 4,
 "nbformat_minor": 2
}
